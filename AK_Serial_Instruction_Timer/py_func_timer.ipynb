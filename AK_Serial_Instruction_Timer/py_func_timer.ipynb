{
 "cells": [
  {
   "cell_type": "code",
   "execution_count": 1,
   "metadata": {},
   "outputs": [
    {
     "name": "stdout",
     "output_type": "stream",
     "text": [
      "Serial<id=0x59fd6d0, open=True>(port='COM3', baudrate=115000, bytesize=8, parity='N', stopbits=1, timeout=None, xonxoff=False, rtscts=False, dsrdtr=False)\n",
      "1565903866.2175345\n",
      "Total time elapsed\n",
      "101.05468726158142\n",
      "Time per loop\n",
      "0.10105468726158143\n"
     ]
    }
   ],
   "source": [
    "#start this program first, then run the time verification program in atmel\n",
    "import serial\n",
    "import time\n",
    "numloops = 1000 #must match Atmel program \n",
    "\n",
    "#ser.close()\n",
    "ser = serial.Serial('COM3', 115000)\n",
    "print(ser)\n",
    "\n",
    "start = ser.read(size = 1) #block until something is received\n",
    "#print(start)\n",
    "now = time.time()\n",
    "print(now)\n",
    "stop = ser.read(size=1)\n",
    "#print(stop)\n",
    "time_elapsed = time.time()-now\n",
    "\n",
    "print(\"Total time elapsed\")\n",
    "print(time_elapsed)\n",
    "print(\"Time per loop\")\n",
    "print(time_elapsed/float(numloops))\n",
    "\n",
    "\n",
    "ser.reset_input_buffer()\n",
    "ser.close()"
   ]
  },
  {
   "cell_type": "code",
   "execution_count": null,
   "metadata": {},
   "outputs": [],
   "source": []
  }
 ],
 "metadata": {
  "kernelspec": {
   "display_name": "Python 3",
   "language": "python",
   "name": "python3"
  },
  "language_info": {
   "codemirror_mode": {
    "name": "ipython",
    "version": 3
   },
   "file_extension": ".py",
   "mimetype": "text/x-python",
   "name": "python",
   "nbconvert_exporter": "python",
   "pygments_lexer": "ipython3",
   "version": "3.7.4"
  }
 },
 "nbformat": 4,
 "nbformat_minor": 2
}
